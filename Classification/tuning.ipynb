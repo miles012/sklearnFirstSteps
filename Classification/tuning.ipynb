{
 "cells": [
  {
   "cell_type": "markdown",
   "id": "tamil-details",
   "metadata": {},
   "source": [
    "# Cross validation "
   ]
  },
  {
   "cell_type": "code",
   "execution_count": 1,
   "id": "meaningful-banks",
   "metadata": {},
   "outputs": [],
   "source": [
    "import pandas as pd\n",
    "import numpy as np\n",
    "\n",
    "from sklearn.model_selection import train_test_split\n",
    "from sklearn.metrics import accuracy_score\n",
    "from sklearn.metrics import precision_score\n",
    "from sklearn.metrics import recall_score\n",
    "\n",
    "from sklearn.linear_model import LogisticRegression\n",
    "from sklearn.tree import DecisionTreeClassifier"
   ]
  },
  {
   "cell_type": "code",
   "execution_count": 2,
   "id": "previous-production",
   "metadata": {},
   "outputs": [
    {
     "data": {
      "text/html": [
       "<div>\n",
       "<style scoped>\n",
       "    .dataframe tbody tr th:only-of-type {\n",
       "        vertical-align: middle;\n",
       "    }\n",
       "\n",
       "    .dataframe tbody tr th {\n",
       "        vertical-align: top;\n",
       "    }\n",
       "\n",
       "    .dataframe thead th {\n",
       "        text-align: right;\n",
       "    }\n",
       "</style>\n",
       "<table border=\"1\" class=\"dataframe\">\n",
       "  <thead>\n",
       "    <tr style=\"text-align: right;\">\n",
       "      <th></th>\n",
       "      <th>Survived</th>\n",
       "      <th>Pclass</th>\n",
       "      <th>Sex</th>\n",
       "      <th>Age</th>\n",
       "      <th>SibSp</th>\n",
       "      <th>Parch</th>\n",
       "      <th>Fare</th>\n",
       "      <th>Embarked_C</th>\n",
       "      <th>Embarked_Q</th>\n",
       "      <th>Embarked_S</th>\n",
       "    </tr>\n",
       "  </thead>\n",
       "  <tbody>\n",
       "    <tr>\n",
       "      <th>0</th>\n",
       "      <td>1</td>\n",
       "      <td>1</td>\n",
       "      <td>0</td>\n",
       "      <td>47.0</td>\n",
       "      <td>1</td>\n",
       "      <td>1</td>\n",
       "      <td>52.5542</td>\n",
       "      <td>0</td>\n",
       "      <td>0</td>\n",
       "      <td>1</td>\n",
       "    </tr>\n",
       "    <tr>\n",
       "      <th>1</th>\n",
       "      <td>0</td>\n",
       "      <td>3</td>\n",
       "      <td>1</td>\n",
       "      <td>16.0</td>\n",
       "      <td>0</td>\n",
       "      <td>0</td>\n",
       "      <td>9.2167</td>\n",
       "      <td>0</td>\n",
       "      <td>0</td>\n",
       "      <td>1</td>\n",
       "    </tr>\n",
       "    <tr>\n",
       "      <th>2</th>\n",
       "      <td>0</td>\n",
       "      <td>3</td>\n",
       "      <td>1</td>\n",
       "      <td>17.0</td>\n",
       "      <td>0</td>\n",
       "      <td>0</td>\n",
       "      <td>8.6625</td>\n",
       "      <td>0</td>\n",
       "      <td>0</td>\n",
       "      <td>1</td>\n",
       "    </tr>\n",
       "    <tr>\n",
       "      <th>3</th>\n",
       "      <td>1</td>\n",
       "      <td>2</td>\n",
       "      <td>0</td>\n",
       "      <td>36.0</td>\n",
       "      <td>0</td>\n",
       "      <td>0</td>\n",
       "      <td>13.0000</td>\n",
       "      <td>0</td>\n",
       "      <td>0</td>\n",
       "      <td>1</td>\n",
       "    </tr>\n",
       "    <tr>\n",
       "      <th>4</th>\n",
       "      <td>0</td>\n",
       "      <td>3</td>\n",
       "      <td>0</td>\n",
       "      <td>39.0</td>\n",
       "      <td>0</td>\n",
       "      <td>5</td>\n",
       "      <td>29.1250</td>\n",
       "      <td>0</td>\n",
       "      <td>1</td>\n",
       "      <td>0</td>\n",
       "    </tr>\n",
       "  </tbody>\n",
       "</table>\n",
       "</div>"
      ],
      "text/plain": [
       "   Survived  Pclass  Sex   Age  SibSp  Parch     Fare  Embarked_C  Embarked_Q  \\\n",
       "0         1       1    0  47.0      1      1  52.5542           0           0   \n",
       "1         0       3    1  16.0      0      0   9.2167           0           0   \n",
       "2         0       3    1  17.0      0      0   8.6625           0           0   \n",
       "3         1       2    0  36.0      0      0  13.0000           0           0   \n",
       "4         0       3    0  39.0      0      5  29.1250           0           1   \n",
       "\n",
       "   Embarked_S  \n",
       "0           1  \n",
       "1           1  \n",
       "2           1  \n",
       "3           1  \n",
       "4           0  "
      ]
     },
     "execution_count": 2,
     "metadata": {},
     "output_type": "execute_result"
    }
   ],
   "source": [
    "titanic_df = pd.read_csv('datasets/titanic_processed_3.csv')\n",
    "titanic_df.head()"
   ]
  },
  {
   "cell_type": "code",
   "execution_count": 3,
   "id": "discrete-tuning",
   "metadata": {},
   "outputs": [],
   "source": [
    "X = titanic_df.drop('Survived', axis=1)\n",
    "Y = titanic_df['Survived']\n",
    "\n",
    "x_train, x_test, y_train, y_test = train_test_split(X,Y,test_size=0.2)"
   ]
  },
  {
   "cell_type": "code",
   "execution_count": 4,
   "id": "heavy-nicaragua",
   "metadata": {},
   "outputs": [],
   "source": [
    "def summarize_classification(y_test, y_pred):\n",
    "    accuracy = accuracy_score(y_test, y_pred, normalize=True)\n",
    "    accuracy_count = accuracy_score(y_test, y_pred, normalize=False)\n",
    "    precision = precision_score(y_test, y_pred)\n",
    "    recall = recall_score(y_test, y_pred)\n",
    "    \n",
    "    print('test data count:', len(y_test))\n",
    "    print('accuracy:', accuracy)\n",
    "    print('precision:', precision)\n",
    "    print('recall:', recall)\n",
    "    print('accuracy_count:', accuracy_count)\n",
    "    print()"
   ]
  },
  {
   "cell_type": "markdown",
   "id": "coordinate-shoot",
   "metadata": {},
   "source": [
    "# DecisionTree Tuning"
   ]
  },
  {
   "cell_type": "code",
   "execution_count": 5,
   "id": "recent-stage",
   "metadata": {},
   "outputs": [
    {
     "data": {
      "text/plain": [
       "{'max_depth': 4}"
      ]
     },
     "execution_count": 5,
     "metadata": {},
     "output_type": "execute_result"
    }
   ],
   "source": [
    "from sklearn.model_selection import GridSearchCV\n",
    "\n",
    "# tuningujemy tylko jeden z możliwych hyperparameters - do tablicy wrzucamy wartości hyperparametrów które będziemy sprawdzać\n",
    "parameters = {'max_depth': [2,4,5,7,9,10]}\n",
    "\n",
    "# cv =3 - na ile części podzielić nasz train dataset w celu walidacji. 2z3 zestawów będą wkorzystane do trenowania, 1z3 do oceny\n",
    "grid_search = GridSearchCV(DecisionTreeClassifier(), parameters, cv=3, return_train_score=True)\n",
    "grid_search.fit(x_train,y_train)\n",
    "\n",
    "grid_search.best_params_"
   ]
  },
  {
   "cell_type": "code",
   "execution_count": 6,
   "id": "hazardous-being",
   "metadata": {},
   "outputs": [
    {
     "name": "stdout",
     "output_type": "stream",
     "text": [
      "Parameters: {'max_depth': 2}\n",
      "Mean Test Score: 0.7925740276617469\n",
      "Rank: 3\n",
      "Parameters: {'max_depth': 4}\n",
      "Mean Test Score: 0.8119650979300101\n",
      "Rank: 1\n",
      "Parameters: {'max_depth': 5}\n",
      "Mean Test Score: 0.7996751137102014\n",
      "Rank: 2\n",
      "Parameters: {'max_depth': 7}\n",
      "Mean Test Score: 0.7785946347349856\n",
      "Rank: 4\n",
      "Parameters: {'max_depth': 9}\n",
      "Mean Test Score: 0.7715956558061822\n",
      "Rank: 5\n",
      "Parameters: {'max_depth': 10}\n",
      "Mean Test Score: 0.7680497540146662\n",
      "Rank: 6\n"
     ]
    }
   ],
   "source": [
    "for i in range(6):\n",
    "    print('Parameters:', grid_search.cv_results_['params'][i])\n",
    "    print('Mean Test Score:', grid_search.cv_results_['mean_test_score'][i])\n",
    "    print('Rank:', grid_search.cv_results_['rank_test_score'][i])"
   ]
  },
  {
   "cell_type": "code",
   "execution_count": 7,
   "id": "final-department",
   "metadata": {},
   "outputs": [],
   "source": [
    "best_score = grid_search.cv_results_['params'][5]\n",
    "max_depth = best_score['max_depth']\n",
    "\n",
    "decision_tree_model = DecisionTreeClassifier(max_depth = max_depth).fit(x_train,y_train)"
   ]
  },
  {
   "cell_type": "code",
   "execution_count": 8,
   "id": "incorrect-lodge",
   "metadata": {},
   "outputs": [
    {
     "name": "stdout",
     "output_type": "stream",
     "text": [
      "test data count: 143\n",
      "accuracy: 0.7272727272727273\n",
      "precision: 0.6170212765957447\n",
      "recall: 0.58\n",
      "accuracy_count: 104\n",
      "\n"
     ]
    }
   ],
   "source": [
    "y_pred = decision_tree_model.predict(x_test)\n",
    "summarize_classification(y_test, y_pred)"
   ]
  },
  {
   "cell_type": "markdown",
   "id": "nervous-preservation",
   "metadata": {},
   "source": [
    "# LogisticRegression tuning"
   ]
  },
  {
   "cell_type": "code",
   "execution_count": 9,
   "id": "plain-snapshot",
   "metadata": {},
   "outputs": [
    {
     "data": {
      "text/plain": [
       "{'C': 0.8, 'penalty': 'l1'}"
      ]
     },
     "execution_count": 9,
     "metadata": {},
     "output_type": "execute_result"
    }
   ],
   "source": [
    "# tuningujemy tylko jeden z możliwych hyperparameters - do tablicy wrzucamy wartości hyperparametrów które będziemy sprawdzać\n",
    "parameters = {'penalty': ['l1','l2'],\n",
    "             'C': [0.1, 0.4, 0.8, 1, 2, 5]}\n",
    "\n",
    "# cv = 3 - na ile części podzielić nasz train dataset w celu walidacji. 2z3 zestawów będą wkorzystane do trenowania, 1z3 do oceny\n",
    "grid_search = GridSearchCV(LogisticRegression(solver='liblinear'), parameters, cv=3, return_train_score=True)\n",
    "grid_search.fit(x_train,y_train)\n",
    "\n",
    "grid_search.best_params_"
   ]
  },
  {
   "cell_type": "code",
   "execution_count": 10,
   "id": "regular-expression",
   "metadata": {},
   "outputs": [],
   "source": [
    "penalty = grid_search.best_params_['penalty']\n",
    "C = grid_search.best_params_['C']\n",
    "\n",
    "logistic_regression_model = LogisticRegression(solver='liblinear', penalty = penalty, C = C).fit(x_train,y_train)"
   ]
  },
  {
   "cell_type": "code",
   "execution_count": 11,
   "id": "social-attachment",
   "metadata": {},
   "outputs": [
    {
     "name": "stdout",
     "output_type": "stream",
     "text": [
      "test data count: 143\n",
      "accuracy: 0.7552447552447552\n",
      "precision: 0.6666666666666666\n",
      "recall: 0.6\n",
      "accuracy_count: 108\n",
      "\n"
     ]
    }
   ],
   "source": [
    "y_pred = logistic_regression_model.predict(x_test)\n",
    "summarize_classification(y_test,y_pred)"
   ]
  },
  {
   "cell_type": "code",
   "execution_count": null,
   "id": "fifteen-multiple",
   "metadata": {},
   "outputs": [],
   "source": []
  }
 ],
 "metadata": {
  "kernelspec": {
   "display_name": "Python 3",
   "language": "python",
   "name": "python3"
  },
  "language_info": {
   "codemirror_mode": {
    "name": "ipython",
    "version": 3
   },
   "file_extension": ".py",
   "mimetype": "text/x-python",
   "name": "python",
   "nbconvert_exporter": "python",
   "pygments_lexer": "ipython3",
   "version": "3.8.5"
  }
 },
 "nbformat": 4,
 "nbformat_minor": 5
}
